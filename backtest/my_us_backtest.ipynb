{
 "cells": [
  {
   "cell_type": "markdown",
   "metadata": {},
   "source": [
    "## 0.导入包"
   ]
  },
  {
   "cell_type": "code",
   "execution_count": null,
   "metadata": {
    "ExecuteTime": {
     "end_time": "2023-04-29T04:04:59.094652Z",
     "start_time": "2023-04-29T04:04:50.251446Z"
    }
   },
   "outputs": [],
   "source": [
    "from pprint import pprint\n",
    "import qlib\n",
    "import pandas as pd\n",
    "from qlib.utils.time import Freq\n",
    "from qlib.utils import flatten_dict\n",
    "from qlib.contrib.evaluate import backtest_daily\n",
    "from qlib.contrib.evaluate import risk_analysis\n",
    "from qlib.contrib.strategy import TopkDropoutStrategy\n",
    "from qlib.utils import init_instance_by_config\n",
    "from qlib.backtest.high_performance_ds import  NumpyQuote,BaseQuote\n",
    "from qlib.backtest.exchange import  Exchange\n",
    "\n",
    "from qlib.workflow import R\n",
    "from qlib.workflow.record_temp import SignalRecord, PortAnaRecord, SigAnaRecord\n",
    "\n",
    "from qlib.contrib.report import analysis_model, analysis_position\n",
    "\n",
    "from qlib.backtest import backtest, executor,exchange\n",
    "\n",
    "from qlib.backtest import high_performance_ds"
   ]
  },
  {
   "cell_type": "markdown",
   "metadata": {},
   "source": [
    "## 1.初始化"
   ]
  },
  {
   "cell_type": "code",
   "execution_count": null,
   "metadata": {
    "ExecuteTime": {
     "end_time": "2023-04-29T04:05:01.056592Z",
     "start_time": "2023-04-29T04:05:01.033665Z"
    }
   },
   "outputs": [],
   "source": [
    "qlib.init(provider_uri='/root/autodl-tmp/Stockformer/code_and_data/us_data_21-23')\n",
    "MARKET = \"all\"\n",
    "BENCHMARK = \"spx.gi\"\n",
    "EXP_NAME = \"tutorial_exp\"\n",
    "# CSI300_BENCH = \"000300\""
   ]
  },
  {
   "cell_type": "markdown",
   "metadata": {},
   "source": [
    "## 2.构造因子"
   ]
  },
  {
   "cell_type": "code",
   "execution_count": null,
   "metadata": {},
   "outputs": [],
   "source": [
    "# 数据参数\n",
    "handler_kwargs = {\n",
    "        \"start_time\": \"2021-01-04\",\n",
    "        \"end_time\": \"2023-06-30\",\n",
    "        \"fit_start_time\": \"2021-01-04\",\n",
    "        \"fit_end_time\": \"2023-01-31\",\n",
    "        \"instruments\": 'all',\n",
    "}\n",
    "\n",
    "# 因子生成参数\n",
    "handler_conf = {\n",
    "    \"class\": \"Alpha158\",\n",
    "    \"module_path\": \"qlib.contrib.data.handler\",\n",
    "    \"kwargs\": handler_kwargs,\n",
    "}\n",
    "\n",
    "pprint(handler_conf)"
   ]
  },
  {
   "cell_type": "code",
   "execution_count": null,
   "metadata": {},
   "outputs": [],
   "source": [
    "hd = init_instance_by_config(handler_conf)"
   ]
  },
  {
   "cell_type": "code",
   "execution_count": null,
   "metadata": {},
   "outputs": [],
   "source": [
    "df = hd.fetch()\n",
    "df.tail()"
   ]
  },
  {
   "cell_type": "markdown",
   "metadata": {},
   "source": [
    "## 3.回测"
   ]
  },
  {
   "cell_type": "code",
   "execution_count": null,
   "metadata": {},
   "outputs": [],
   "source": [
    "# 数据集参数\n",
    "dataset_conf = {\n",
    "        \"class\": \"DatasetH\",\n",
    "        # \"class\": \"TSDatasetH\",\n",
    "        \"module_path\": \"qlib.data.dataset\",\n",
    "        \"kwargs\": {\n",
    "            \"handler\": hd,\n",
    "            \"segments\": {\n",
    "                \"train\": (\"2021-01-04\", \"2022-08-31\"),\n",
    "                \"valid\": (\"2022-09-01\", \"2023-01-31\"),\n",
    "                \"test\": (\"2023-02-01\", \"2023-06-30\"),\n",
    "            },\n",
    "        },\n",
    "}"
   ]
  },
  {
   "cell_type": "code",
   "execution_count": null,
   "metadata": {},
   "outputs": [],
   "source": [
    "dataset = init_instance_by_config(dataset_conf)"
   ]
  },
  {
   "cell_type": "markdown",
   "metadata": {},
   "source": [
    "### 第一个模型开始"
   ]
  },
  {
   "cell_type": "code",
   "execution_count": null,
   "metadata": {},
   "outputs": [],
   "source": [
    "#### 模型训练\n",
    "\n",
    "model = init_instance_by_config({\n",
    "        \"class\": \"CatBoostModel\",\n",
    "        \"module_path\": \"qlib.contrib.model.catboost_model\",\n",
    "})"
   ]
  },
  {
   "cell_type": "code",
   "execution_count": null,
   "metadata": {},
   "outputs": [],
   "source": [
    "#### 模型训练\n",
    "\n",
    "model = init_instance_by_config({\n",
    "        \"class\": \"LGBModel\",\n",
    "        \"module_path\": \"qlib.contrib.model.gbdt\",\n",
    "        \"kwargs\": {\n",
    "            \"loss\": \"mse\",\n",
    "            \"colsample_bytree\": 0.8879,\n",
    "            \"learning_rate\": 0.0421,\n",
    "            \"subsample\": 0.8789,\n",
    "            \"lambda_l1\": 205.6999,\n",
    "            \"lambda_l2\": 580.9768,\n",
    "            \"max_depth\": 8,\n",
    "            \"num_leaves\": 210,\n",
    "            \"num_threads\": 20,\n",
    "        },\n",
    "})"
   ]
  },
  {
   "cell_type": "code",
   "execution_count": null,
   "metadata": {
    "tags": []
   },
   "outputs": [],
   "source": [
    "# start exp to train model\n",
    "with R.start(experiment_name=EXP_NAME):\n",
    "    model.fit(dataset)\n",
    "    R.save_objects(trained_model=model)\n",
    "\n",
    "    rec = R.get_recorder()\n",
    "    rid = rec.id # save the record id\n",
    "\n",
    "    # Inference and saving signal\n",
    "    sr = SignalRecord(model, dataset, rec)\n",
    "    sr.generate()"
   ]
  },
  {
   "cell_type": "code",
   "execution_count": null,
   "metadata": {},
   "outputs": [],
   "source": [
    "# load recorder\n",
    "recorder = R.get_recorder(recorder_id=rid, experiment_name=EXP_NAME)\n",
    "pred_df = recorder.load_object(\"pred.pkl\")\n",
    "pred_df"
   ]
  },
  {
   "cell_type": "markdown",
   "metadata": {},
   "source": [
    "### Stockformer"
   ]
  },
  {
   "cell_type": "code",
   "execution_count": null,
   "metadata": {},
   "outputs": [],
   "source": [
    "my_pred_df = pd.read_csv('/root/autodl-tmp/Stockformer/output/US-Stock-pred-20230201-20230630-new.csv', index_col=[0, 1])\n",
    "my_pred_df = my_pred_df.reset_index()\n",
    "my_pred_df = my_pred_df.rename(columns={'datatime':'datetime'}) \n",
    "my_pred_df['datetime']= pd.to_datetime(my_pred_df['datetime'])\n",
    "my_pred_df = my_pred_df.set_index(['datetime','instrument']) # 将code和date列设置为MultiIndex)"
   ]
  },
  {
   "cell_type": "code",
   "execution_count": null,
   "metadata": {},
   "outputs": [],
   "source": [
    "my_pred_df"
   ]
  },
  {
   "cell_type": "code",
   "execution_count": null,
   "metadata": {},
   "outputs": [],
   "source": [
    "############## my_predict\n",
    "FREQ = \"day\"\n",
    "\n",
    "STRATEGY_CONFIG = {\n",
    "    \"topk\": 10,\n",
    "    \"n_drop\": 2,\n",
    "    # pred_score, pd.Series\n",
    "    \"signal\": my_pred_df, ################################ 需要换 ##############\n",
    "}\n",
    "\n",
    "EXECUTOR_CONFIG = {\n",
    "    \"time_per_step\": \"day\",\n",
    "    \"generate_portfolio_metrics\": True,\n",
    "}\n",
    "\n",
    "backtest_config = {\n",
    "    \"start_time\": \"2023-02-01\",\n",
    "    \"end_time\": \"2023-06-28\",\n",
    "    \"account\": 100000,\n",
    "    \"benchmark\": 'spx.gi',\n",
    "    \"exchange_kwargs\": {\n",
    "        \"freq\": FREQ,\n",
    "        \"limit_threshold\": 0.095,\n",
    "        \"deal_price\": \"close\",\n",
    "        \"open_cost\": 0.0005,\n",
    "        \"close_cost\": 0.003,\n",
    "        \"min_cost\": 5,\n",
    "    },\n",
    "}\n"
   ]
  },
  {
   "cell_type": "code",
   "execution_count": null,
   "metadata": {},
   "outputs": [],
   "source": [
    "# strategy object\n",
    "strategy_obj = TopkDropoutStrategy(**STRATEGY_CONFIG)\n",
    "# executor object\n",
    "executor_obj = executor.SimulatorExecutor(**EXECUTOR_CONFIG)\n",
    "# backtest\n",
    "portfolio_metric_dict, indicator_dict = backtest(executor=executor_obj, strategy=strategy_obj, **backtest_config)\n",
    "analysis_freq = \"{0}{1}\".format(*Freq.parse(FREQ))\n",
    "\n",
    "# backtest info\n",
    "my_report_normal, positions_normal = portfolio_metric_dict.get(analysis_freq)\n"
   ]
  },
  {
   "cell_type": "code",
   "execution_count": null,
   "metadata": {},
   "outputs": [],
   "source": [
    "my_report_normal"
   ]
  },
  {
   "cell_type": "markdown",
   "metadata": {},
   "source": [
    "### LGBM"
   ]
  },
  {
   "cell_type": "code",
   "execution_count": null,
   "metadata": {},
   "outputs": [],
   "source": [
    "########## LGBM\n",
    "FREQ = \"day\"\n",
    "\n",
    "STRATEGY_CONFIG = {\n",
    "    \"topk\": 10,\n",
    "    \"n_drop\": 2,\n",
    "    # pred_score, pd.Series\n",
    "    \"signal\": pred_df, ################################ 需要换 ##############\n",
    "}\n",
    "\n",
    "EXECUTOR_CONFIG = {\n",
    "    \"time_per_step\": \"day\",\n",
    "    \"generate_portfolio_metrics\": True,\n",
    "}\n",
    "\n",
    "backtest_config = {\n",
    "    \"start_time\": \"2023-02-01\",\n",
    "    \"end_time\": \"2023-06-28\",\n",
    "    \"account\": 100000,\n",
    "    \"benchmark\": 'spx.gi',\n",
    "    \"exchange_kwargs\": {\n",
    "        \"freq\": FREQ,\n",
    "        \"limit_threshold\": 0.095,\n",
    "        \"deal_price\": \"close\",\n",
    "        \"open_cost\": 0.0005,\n",
    "        \"close_cost\": 0.003,\n",
    "        \"min_cost\": 5,\n",
    "    },\n",
    "}\n"
   ]
  },
  {
   "cell_type": "code",
   "execution_count": null,
   "metadata": {},
   "outputs": [],
   "source": [
    "# strategy object\n",
    "strategy_obj = TopkDropoutStrategy(**STRATEGY_CONFIG)\n",
    "# executor object\n",
    "executor_obj = executor.SimulatorExecutor(**EXECUTOR_CONFIG)\n",
    "# backtest\n",
    "portfolio_metric_dict, indicator_dict = backtest(executor=executor_obj, strategy=strategy_obj, **backtest_config)\n",
    "analysis_freq = \"{0}{1}\".format(*Freq.parse(FREQ))\n",
    "\n",
    "# backtest info\n",
    "lgbm_report_normal, positions_normal = portfolio_metric_dict.get(analysis_freq)\n"
   ]
  },
  {
   "cell_type": "markdown",
   "metadata": {},
   "source": [
    "### Catboost"
   ]
  },
  {
   "cell_type": "code",
   "execution_count": null,
   "metadata": {},
   "outputs": [],
   "source": [
    "# 模型训练\n",
    "\n",
    "model = init_instance_by_config({\n",
    "        \"class\": \"CatBoostModel\",\n",
    "        \"module_path\": \"qlib.contrib.model.catboost_model\",\n",
    "})"
   ]
  },
  {
   "cell_type": "code",
   "execution_count": null,
   "metadata": {
    "tags": []
   },
   "outputs": [],
   "source": [
    "# start exp to train model\n",
    "with R.start(experiment_name=EXP_NAME):\n",
    "    model.fit(dataset)\n",
    "    R.save_objects(trained_model=model)\n",
    "\n",
    "    rec = R.get_recorder()\n",
    "    rid = rec.id # save the record id\n",
    "\n",
    "    # Inference and saving signal\n",
    "    sr = SignalRecord(model, dataset, rec)\n",
    "    sr.generate()"
   ]
  },
  {
   "cell_type": "code",
   "execution_count": null,
   "metadata": {},
   "outputs": [],
   "source": [
    "# load recorder\n",
    "recorder = R.get_recorder(recorder_id=rid, experiment_name=EXP_NAME)\n",
    "catboost_pred_df = recorder.load_object(\"pred.pkl\")\n",
    "catboost_pred_df"
   ]
  },
  {
   "cell_type": "code",
   "execution_count": null,
   "metadata": {},
   "outputs": [],
   "source": [
    "############## my_predict\n",
    "FREQ = \"day\"\n",
    "\n",
    "STRATEGY_CONFIG = {\n",
    "    \"topk\": 10,\n",
    "    \"n_drop\": 2,\n",
    "    # pred_score, pd.Series\n",
    "    \"signal\": catboost_pred_df, ################################ 需要换 ##############\n",
    "}\n",
    "\n",
    "EXECUTOR_CONFIG = {\n",
    "    \"time_per_step\": \"day\",\n",
    "    \"generate_portfolio_metrics\": True,\n",
    "}\n",
    "\n",
    "backtest_config = {\n",
    "    \"start_time\": \"2023-02-01\",\n",
    "    \"end_time\": \"2023-06-28\",\n",
    "    \"account\": 100000,\n",
    "    \"benchmark\": 'spx.gi',\n",
    "    \"exchange_kwargs\": {\n",
    "        \"freq\": FREQ,\n",
    "        \"limit_threshold\": 0.095,\n",
    "        \"deal_price\": \"close\",\n",
    "        \"open_cost\": 0.0005,\n",
    "        \"close_cost\": 0.003,\n",
    "        \"min_cost\": 5,\n",
    "    },\n",
    "}\n"
   ]
  },
  {
   "cell_type": "code",
   "execution_count": null,
   "metadata": {},
   "outputs": [],
   "source": [
    "# strategy object\n",
    "strategy_obj = TopkDropoutStrategy(**STRATEGY_CONFIG)\n",
    "# executor object\n",
    "executor_obj = executor.SimulatorExecutor(**EXECUTOR_CONFIG)\n",
    "# backtest\n",
    "portfolio_metric_dict, indicator_dict = backtest(executor=executor_obj, strategy=strategy_obj, **backtest_config)\n",
    "analysis_freq = \"{0}{1}\".format(*Freq.parse(FREQ))\n",
    "\n",
    "# backtest info\n",
    "catboost_report_normal, catboost_positions_normal = portfolio_metric_dict.get(analysis_freq)"
   ]
  },
  {
   "cell_type": "code",
   "execution_count": null,
   "metadata": {},
   "outputs": [],
   "source": [
    "catboost_report_normal.head()"
   ]
  },
  {
   "cell_type": "code",
   "execution_count": null,
   "metadata": {},
   "outputs": [],
   "source": [
    "## 方便修改源码，把结果保存，方便调取\n",
    "outpath = '/root/autodl-tmp/Stockformer/output'\n",
    "my_report_normal = pd.read_csv(outpath+'my_report_normal.csv')\n",
    "# 将 'datetime' 列转换为日期格式\n",
    "my_report_normal['datetime'] = pd.to_datetime(my_report_normal['datetime'])\n",
    "\n",
    "# 将 'datetime' 列设置为索引\n",
    "my_report_normal.set_index('datetime', inplace=True)"
   ]
  },
  {
   "cell_type": "code",
   "execution_count": null,
   "metadata": {},
   "outputs": [],
   "source": [
    "my_report_normal"
   ]
  },
  {
   "cell_type": "code",
   "execution_count": null,
   "metadata": {},
   "outputs": [],
   "source": [
    "my_report_normal['catboost_return'] = catboost_report_normal['return']"
   ]
  },
  {
   "cell_type": "code",
   "execution_count": null,
   "metadata": {},
   "outputs": [],
   "source": [
    "my_report_normal"
   ]
  },
  {
   "cell_type": "markdown",
   "metadata": {},
   "source": [
    "### XGBoost"
   ]
  },
  {
   "cell_type": "code",
   "execution_count": null,
   "metadata": {},
   "outputs": [],
   "source": [
    "# 模型训练\n",
    "\n",
    "model = init_instance_by_config({\n",
    "        \"class\": \"XGBModel\",\n",
    "        \"module_path\": \"qlib.contrib.model.xgboost\",\n",
    "})"
   ]
  },
  {
   "cell_type": "code",
   "execution_count": null,
   "metadata": {
    "collapsed": true,
    "jupyter": {
     "outputs_hidden": true
    },
    "tags": []
   },
   "outputs": [],
   "source": [
    "# start exp to train model\n",
    "with R.start(experiment_name=EXP_NAME):\n",
    "    model.fit(dataset)\n",
    "    R.save_objects(trained_model=model)\n",
    "\n",
    "    rec = R.get_recorder()\n",
    "    rid = rec.id # save the record id\n",
    "\n",
    "    # Inference and saving signal\n",
    "    sr = SignalRecord(model, dataset, rec)\n",
    "    sr.generate()"
   ]
  },
  {
   "cell_type": "code",
   "execution_count": null,
   "metadata": {},
   "outputs": [],
   "source": [
    "# load recorder\n",
    "recorder = R.get_recorder(recorder_id=rid, experiment_name=EXP_NAME)\n",
    "xgboost_pred_df = recorder.load_object(\"pred.pkl\")\n",
    "xgboost_pred_df"
   ]
  },
  {
   "cell_type": "code",
   "execution_count": null,
   "metadata": {},
   "outputs": [],
   "source": [
    "############## my_predict\n",
    "FREQ = \"day\"\n",
    "\n",
    "STRATEGY_CONFIG = {\n",
    "    \"topk\": 10,\n",
    "    \"n_drop\": 2,\n",
    "    # pred_score, pd.Series\n",
    "    \"signal\": xgboost_pred_df, ################################ 需要换 ##############\n",
    "}\n",
    "\n",
    "EXECUTOR_CONFIG = {\n",
    "    \"time_per_step\": \"day\",\n",
    "    \"generate_portfolio_metrics\": True,\n",
    "}\n",
    "\n",
    "backtest_config = {\n",
    "    \"start_time\": \"2023-02-01\",\n",
    "    \"end_time\": \"2023-06-28\",\n",
    "    \"account\": 100000,\n",
    "    \"benchmark\": 'spx.gi',\n",
    "    \"exchange_kwargs\": {\n",
    "        \"freq\": FREQ,\n",
    "        \"limit_threshold\": 0.095,\n",
    "        \"deal_price\": \"close\",\n",
    "        \"open_cost\": 0.0005,\n",
    "        \"close_cost\": 0.003,\n",
    "        \"min_cost\": 5,\n",
    "    },\n",
    "}\n"
   ]
  },
  {
   "cell_type": "code",
   "execution_count": null,
   "metadata": {},
   "outputs": [],
   "source": [
    "# strategy object\n",
    "strategy_obj = TopkDropoutStrategy(**STRATEGY_CONFIG)\n",
    "# executor object\n",
    "executor_obj = executor.SimulatorExecutor(**EXECUTOR_CONFIG)\n",
    "# backtest\n",
    "portfolio_metric_dict, indicator_dict = backtest(executor=executor_obj, strategy=strategy_obj, **backtest_config)\n",
    "analysis_freq = \"{0}{1}\".format(*Freq.parse(FREQ))\n",
    "\n",
    "# backtest info\n",
    "xgboost_report_normal, xgboost_positions_normal = portfolio_metric_dict.get(analysis_freq)"
   ]
  },
  {
   "cell_type": "code",
   "execution_count": null,
   "metadata": {},
   "outputs": [],
   "source": [
    "my_report_normal['xgboost_return'] = xgboost_report_normal['return']"
   ]
  },
  {
   "cell_type": "code",
   "execution_count": null,
   "metadata": {},
   "outputs": [],
   "source": [
    "my_report_normal"
   ]
  },
  {
   "cell_type": "markdown",
   "metadata": {},
   "source": [
    "### highfreq gdbt"
   ]
  },
  {
   "cell_type": "code",
   "execution_count": null,
   "metadata": {},
   "outputs": [],
   "source": [
    "# 模型训练\n",
    "\n",
    "model = init_instance_by_config({\n",
    "        \"class\": \"HFLGBModel\",\n",
    "        \"module_path\": \"qlib.contrib.model.highfreq_gdbt_model\",\n",
    "})"
   ]
  },
  {
   "cell_type": "code",
   "execution_count": null,
   "metadata": {
    "collapsed": true,
    "jupyter": {
     "outputs_hidden": true
    },
    "tags": []
   },
   "outputs": [],
   "source": [
    "# start exp to train model\n",
    "with R.start(experiment_name=EXP_NAME):\n",
    "    model.fit(dataset)\n",
    "    R.save_objects(trained_model=model)\n",
    "\n",
    "    rec = R.get_recorder()\n",
    "    rid = rec.id # save the record id\n",
    "\n",
    "    # Inference and saving signal\n",
    "    sr = SignalRecord(model, dataset, rec)\n",
    "    sr.generate()"
   ]
  },
  {
   "cell_type": "code",
   "execution_count": null,
   "metadata": {},
   "outputs": [],
   "source": [
    "# load recorder\n",
    "recorder = R.get_recorder(recorder_id=rid, experiment_name=EXP_NAME)\n",
    "HFLGB_pred_df = recorder.load_object(\"pred.pkl\")\n",
    "HFLGB_pred_df"
   ]
  },
  {
   "cell_type": "code",
   "execution_count": null,
   "metadata": {},
   "outputs": [],
   "source": [
    "############## my_predict\n",
    "FREQ = \"day\"\n",
    "\n",
    "STRATEGY_CONFIG = {\n",
    "    \"topk\": 10,\n",
    "    \"n_drop\": 2,\n",
    "    # pred_score, pd.Series\n",
    "    \"signal\": HFLGB_pred_df, ################################ 需要换 ##############\n",
    "}\n",
    "\n",
    "EXECUTOR_CONFIG = {\n",
    "    \"time_per_step\": \"day\",\n",
    "    \"generate_portfolio_metrics\": True,\n",
    "}\n",
    "\n",
    "backtest_config = {\n",
    "    \"start_time\": \"2023-02-01\",\n",
    "    \"end_time\": \"2023-06-28\",\n",
    "    \"account\": 100000,\n",
    "    \"benchmark\": 'spx.gi',\n",
    "    \"exchange_kwargs\": {\n",
    "        \"freq\": FREQ,\n",
    "        \"limit_threshold\": 0.095,\n",
    "        \"deal_price\": \"close\",\n",
    "        \"open_cost\": 0.0005,\n",
    "        \"close_cost\": 0.003,\n",
    "        \"min_cost\": 5,\n",
    "    },\n",
    "}\n"
   ]
  },
  {
   "cell_type": "code",
   "execution_count": null,
   "metadata": {},
   "outputs": [],
   "source": [
    "# strategy object\n",
    "strategy_obj = TopkDropoutStrategy(**STRATEGY_CONFIG)\n",
    "# executor object\n",
    "executor_obj = executor.SimulatorExecutor(**EXECUTOR_CONFIG)\n",
    "# backtest\n",
    "portfolio_metric_dict, indicator_dict = backtest(executor=executor_obj, strategy=strategy_obj, **backtest_config)\n",
    "analysis_freq = \"{0}{1}\".format(*Freq.parse(FREQ))\n",
    "\n",
    "# backtest info\n",
    "HFLGB_report_normal, HFLGB_positions_normal = portfolio_metric_dict.get(analysis_freq)"
   ]
  },
  {
   "cell_type": "code",
   "execution_count": null,
   "metadata": {},
   "outputs": [],
   "source": [
    "my_report_normal['HFLGB_return'] = HFLGB_report_normal['return']"
   ]
  },
  {
   "cell_type": "code",
   "execution_count": null,
   "metadata": {},
   "outputs": [],
   "source": [
    "my_report_normal"
   ]
  },
  {
   "cell_type": "code",
   "execution_count": null,
   "metadata": {},
   "outputs": [],
   "source": [
    "## 方便修改源码，把结果保存，方便调取\n",
    "outpath = '/root/autodl-tmp/Stockformer/output'\n",
    "### 保存时不要注释\n",
    "my_report_normal.to_csv(outpath+'my_report_normal.csv')"
   ]
  },
  {
   "cell_type": "code",
   "execution_count": null,
   "metadata": {},
   "outputs": [],
   "source": [
    "my_report_normal = pd.read_csv(outpath+'my_report_normal.csv')"
   ]
  },
  {
   "cell_type": "code",
   "execution_count": null,
   "metadata": {},
   "outputs": [],
   "source": [
    "my_report_normal"
   ]
  },
  {
   "cell_type": "markdown",
   "metadata": {},
   "source": [
    "### Alstm"
   ]
  },
  {
   "cell_type": "code",
   "execution_count": null,
   "metadata": {},
   "outputs": [],
   "source": [
    "# 数据集参数\n",
    "dataset_conf = {\n",
    "        \"class\": \"DatasetH\",\n",
    "        # \"class\": \"TSDatasetH\",\n",
    "        \"module_path\": \"qlib.data.dataset\",\n",
    "        \"kwargs\": {\n",
    "            \"handler\": hd,\n",
    "            \"segments\": {\n",
    "                \"train\": (\"2021-01-04\", \"2022-08-31\"),\n",
    "                \"valid\": (\"2022-09-01\", \"2023-01-31\"),\n",
    "                \"test\": (\"2023-02-01\", \"2023-06-30\"),\n",
    "            },\n",
    "        },\n",
    "}"
   ]
  },
  {
   "cell_type": "code",
   "execution_count": null,
   "metadata": {},
   "outputs": [],
   "source": [
    "dataset = init_instance_by_config(dataset_conf)"
   ]
  },
  {
   "cell_type": "code",
   "execution_count": null,
   "metadata": {},
   "outputs": [],
   "source": [
    "# 模型训练\n",
    "\n",
    "model = init_instance_by_config({\n",
    "        \"class\": \"ALSTM\",\n",
    "        \"module_path\": \"qlib.contrib.model.pytorch_alstm\",\n",
    "        \"kwargs\": {\n",
    "            \"d_feat\": 158,\n",
    "        }\n",
    "})"
   ]
  },
  {
   "cell_type": "code",
   "execution_count": null,
   "metadata": {
    "collapsed": true,
    "jupyter": {
     "outputs_hidden": true
    },
    "tags": []
   },
   "outputs": [],
   "source": [
    "# start exp to train model\n",
    "with R.start(experiment_name=EXP_NAME):\n",
    "    model.fit(dataset)\n",
    "    R.save_objects(trained_model=model)\n",
    "\n",
    "    rec = R.get_recorder()\n",
    "    rid = rec.id # save the record id\n",
    "\n",
    "    # Inference and saving signal\n",
    "    sr = SignalRecord(model, dataset, rec)\n",
    "    sr.generate()"
   ]
  },
  {
   "cell_type": "code",
   "execution_count": null,
   "metadata": {},
   "outputs": [],
   "source": [
    "# load recorder\n",
    "recorder = R.get_recorder(recorder_id=rid, experiment_name=EXP_NAME)\n",
    "alstm_pred_df = recorder.load_object(\"pred.pkl\")\n",
    "alstm_pred_df"
   ]
  },
  {
   "cell_type": "code",
   "execution_count": null,
   "metadata": {},
   "outputs": [],
   "source": [
    "############## my_predict\n",
    "FREQ = \"day\"\n",
    "\n",
    "STRATEGY_CONFIG = {\n",
    "    \"topk\": 10,\n",
    "    \"n_drop\": 2,\n",
    "    # pred_score, pd.Series\n",
    "    \"signal\": alstm_pred_df, ################################ 需要换 ##############\n",
    "}\n",
    "\n",
    "EXECUTOR_CONFIG = {\n",
    "    \"time_per_step\": \"day\",\n",
    "    \"generate_portfolio_metrics\": True,\n",
    "}\n",
    "\n",
    "backtest_config = {\n",
    "    \"start_time\": \"2023-02-01\",\n",
    "    \"end_time\": \"2023-06-28\",\n",
    "    \"account\": 100000,\n",
    "    \"benchmark\": 'spx.gi',\n",
    "    \"exchange_kwargs\": {\n",
    "        \"freq\": FREQ,\n",
    "        \"limit_threshold\": 0.095,\n",
    "        \"deal_price\": \"close\",\n",
    "        \"open_cost\": 0.0005,\n",
    "        \"close_cost\": 0.003,\n",
    "        \"min_cost\": 5,\n",
    "    },\n",
    "}\n"
   ]
  },
  {
   "cell_type": "code",
   "execution_count": null,
   "metadata": {
    "tags": []
   },
   "outputs": [],
   "source": [
    "# strategy object\n",
    "strategy_obj = TopkDropoutStrategy(**STRATEGY_CONFIG)\n",
    "# executor object\n",
    "executor_obj = executor.SimulatorExecutor(**EXECUTOR_CONFIG)\n",
    "# backtest\n",
    "portfolio_metric_dict, indicator_dict = backtest(executor=executor_obj, strategy=strategy_obj, **backtest_config)\n",
    "analysis_freq = \"{0}{1}\".format(*Freq.parse(FREQ))\n",
    "\n",
    "# backtest info\n",
    "alstm_report_normal, alstm_positions_normal = portfolio_metric_dict.get(analysis_freq)"
   ]
  },
  {
   "cell_type": "code",
   "execution_count": null,
   "metadata": {},
   "outputs": [],
   "source": [
    "alstm_report_normal['return']"
   ]
  },
  {
   "cell_type": "code",
   "execution_count": null,
   "metadata": {},
   "outputs": [],
   "source": [
    "outpath = '/root/autodl-tmp/Stockformer/output'\n",
    "# 将 'datetime' 列转换为日期格式\n",
    "my_report_normal = pd.read_csv(outpath+'my_report_normal.csv')\n",
    "my_report_normal['datetime'] = pd.to_datetime(my_report_normal['datetime'])\n",
    "\n",
    "# 将 'datetime' 列设置为索引\n",
    "my_report_normal.set_index('datetime', inplace=True)"
   ]
  },
  {
   "cell_type": "code",
   "execution_count": null,
   "metadata": {},
   "outputs": [],
   "source": [
    "my_report_normal['alstm_return'] = alstm_report_normal['return']\n",
    "my_report_normal"
   ]
  },
  {
   "cell_type": "code",
   "execution_count": null,
   "metadata": {},
   "outputs": [],
   "source": [
    "## 方便修改源码，把结果保存，方便调取\n",
    "outpath = '/root/autodl-tmp/Stockformer/output'\n",
    "### 保存时不要注释\n",
    "my_report_normal.to_csv(outpath+'my_report_normal.csv')"
   ]
  },
  {
   "cell_type": "code",
   "execution_count": null,
   "metadata": {},
   "outputs": [],
   "source": [
    "my_report_normal = pd.read_csv(outpath+'my_report_normal.csv')"
   ]
  },
  {
   "cell_type": "code",
   "execution_count": null,
   "metadata": {},
   "outputs": [],
   "source": [
    "my_report_normal"
   ]
  },
  {
   "cell_type": "markdown",
   "metadata": {},
   "source": [
    "### LSTM"
   ]
  },
  {
   "cell_type": "code",
   "execution_count": null,
   "metadata": {},
   "outputs": [],
   "source": [
    "# 数据集参数\n",
    "dataset_conf = {\n",
    "        \"class\": \"DatasetH\",\n",
    "        \"module_path\": \"qlib.data.dataset\",\n",
    "        \"kwargs\": {\n",
    "            \"handler\": hd,\n",
    "            \"segments\": {\n",
    "                \"train\": (\"2021-01-04\", \"2022-08-31\"),\n",
    "                \"valid\": (\"2022-09-01\", \"2023-01-31\"),\n",
    "                \"test\": (\"2023-02-01\", \"2023-06-30\"),\n",
    "            },\n",
    "        },\n",
    "}"
   ]
  },
  {
   "cell_type": "code",
   "execution_count": null,
   "metadata": {},
   "outputs": [],
   "source": [
    "dataset = init_instance_by_config(dataset_conf)"
   ]
  },
  {
   "cell_type": "code",
   "execution_count": null,
   "metadata": {},
   "outputs": [],
   "source": [
    "# 模型训练\n",
    "\n",
    "model = init_instance_by_config({\n",
    "        \"class\": \"LSTM\",\n",
    "        \"module_path\": \"qlib.contrib.model.pytorch_lstm\",\n",
    "        \"kwargs\": {\n",
    "            \"d_feat\": 158,\n",
    "        }\n",
    "})"
   ]
  },
  {
   "cell_type": "code",
   "execution_count": null,
   "metadata": {},
   "outputs": [],
   "source": [
    "# start exp to train model\n",
    "with R.start(experiment_name=EXP_NAME):\n",
    "    model.fit(dataset)\n",
    "    R.save_objects(trained_model=model)\n",
    "\n",
    "    rec = R.get_recorder()\n",
    "    rid = rec.id # save the record id\n",
    "\n",
    "    # Inference and saving signal\n",
    "    sr = SignalRecord(model, dataset, rec)\n",
    "    sr.generate()"
   ]
  },
  {
   "cell_type": "code",
   "execution_count": null,
   "metadata": {},
   "outputs": [],
   "source": [
    "# load recorder\n",
    "recorder = R.get_recorder(recorder_id=rid, experiment_name=EXP_NAME)\n",
    "lstm_pred_df = recorder.load_object(\"pred.pkl\")\n",
    "lstm_pred_df"
   ]
  },
  {
   "cell_type": "code",
   "execution_count": null,
   "metadata": {},
   "outputs": [],
   "source": [
    "############## my_predict\n",
    "FREQ = \"day\"\n",
    "\n",
    "STRATEGY_CONFIG = {\n",
    "    \"topk\": 10,\n",
    "    \"n_drop\": 2,\n",
    "    # pred_score, pd.Series\n",
    "    \"signal\": lstm_pred_df, ################################ 需要换 ##############\n",
    "}\n",
    "\n",
    "EXECUTOR_CONFIG = {\n",
    "    \"time_per_step\": \"day\",\n",
    "    \"generate_portfolio_metrics\": True,\n",
    "}\n",
    "\n",
    "backtest_config = {\n",
    "    \"start_time\": \"2023-02-01\",\n",
    "    \"end_time\": \"2023-06-28\",\n",
    "    \"account\": 100000,\n",
    "    \"benchmark\": 'spx.gi',\n",
    "    \"exchange_kwargs\": {\n",
    "        \"freq\": FREQ,\n",
    "        \"limit_threshold\": 0.095,\n",
    "        \"deal_price\": \"close\",\n",
    "        \"open_cost\": 0.0005,\n",
    "        \"close_cost\": 0.003,\n",
    "        \"min_cost\": 5,\n",
    "    },\n",
    "}\n"
   ]
  },
  {
   "cell_type": "code",
   "execution_count": null,
   "metadata": {},
   "outputs": [],
   "source": [
    "# strategy object\n",
    "strategy_obj = TopkDropoutStrategy(**STRATEGY_CONFIG)\n",
    "# executor object\n",
    "executor_obj = executor.SimulatorExecutor(**EXECUTOR_CONFIG)\n",
    "# backtest\n",
    "portfolio_metric_dict, indicator_dict = backtest(executor=executor_obj, strategy=strategy_obj, **backtest_config)\n",
    "analysis_freq = \"{0}{1}\".format(*Freq.parse(FREQ))\n",
    "\n",
    "# backtest info\n",
    "lstm_report_normal, lstm_positions_normal = portfolio_metric_dict.get(analysis_freq)"
   ]
  },
  {
   "cell_type": "code",
   "execution_count": null,
   "metadata": {},
   "outputs": [],
   "source": [
    "outpath = '/root/autodl-tmp/Stockformer/output'\n",
    "# 将 'datetime' 列转换为日期格式\n",
    "my_report_normal = pd.read_csv(outpath+'my_report_normal.csv')\n",
    "my_report_normal['datetime'] = pd.to_datetime(my_report_normal['datetime'])\n",
    "\n",
    "# 将 'datetime' 列设置为索引\n",
    "my_report_normal.set_index('datetime', inplace=True)"
   ]
  },
  {
   "cell_type": "code",
   "execution_count": null,
   "metadata": {},
   "outputs": [],
   "source": [
    "my_report_normal['lstm_return'] = lstm_report_normal['return']\n",
    "my_report_normal"
   ]
  },
  {
   "cell_type": "code",
   "execution_count": null,
   "metadata": {},
   "outputs": [],
   "source": [
    "## 方便修改源码，把结果保存，方便调取\n",
    "outpath = '/root/autodl-tmp/Stockformer/output'\n",
    "### 保存时不要注释\n",
    "my_report_normal.to_csv(outpath+'my_report_normal.csv')"
   ]
  },
  {
   "cell_type": "code",
   "execution_count": null,
   "metadata": {},
   "outputs": [],
   "source": [
    "my_report_normal = pd.read_csv(outpath+'my_report_normal.csv')"
   ]
  },
  {
   "cell_type": "code",
   "execution_count": null,
   "metadata": {},
   "outputs": [],
   "source": [
    "my_report_normal"
   ]
  },
  {
   "cell_type": "markdown",
   "metadata": {},
   "source": [
    "### GRU"
   ]
  },
  {
   "cell_type": "code",
   "execution_count": null,
   "metadata": {},
   "outputs": [],
   "source": [
    "# 数据集参数\n",
    "dataset_conf = {\n",
    "        \"class\": \"DatasetH\",\n",
    "        # \"class\": \"TSDatasetH\",\n",
    "        \"module_path\": \"qlib.data.dataset\",\n",
    "        \"kwargs\": {\n",
    "            \"handler\": hd,\n",
    "            \"segments\": {\n",
    "                \"train\": (\"2021-01-04\", \"2022-08-31\"),\n",
    "                \"valid\": (\"2022-09-01\", \"2023-01-31\"),\n",
    "                \"test\": (\"2023-02-01\", \"2023-06-30\"),\n",
    "            },\n",
    "        },\n",
    "}"
   ]
  },
  {
   "cell_type": "code",
   "execution_count": null,
   "metadata": {},
   "outputs": [],
   "source": [
    "dataset = init_instance_by_config(dataset_conf)"
   ]
  },
  {
   "cell_type": "code",
   "execution_count": null,
   "metadata": {},
   "outputs": [],
   "source": [
    "# 模型训练\n",
    "\n",
    "model = init_instance_by_config({\n",
    "        \"class\": \"GRU\",\n",
    "        \"module_path\": \"qlib.contrib.model.pytorch_gru\",\n",
    "        \"kwargs\": {\n",
    "            \"d_feat\": 158,\n",
    "        }\n",
    "})"
   ]
  },
  {
   "cell_type": "code",
   "execution_count": null,
   "metadata": {
    "tags": []
   },
   "outputs": [],
   "source": [
    "# start exp to train model\n",
    "with R.start(experiment_name=EXP_NAME):\n",
    "    model.fit(dataset)\n",
    "    R.save_objects(trained_model=model)\n",
    "\n",
    "    rec = R.get_recorder()\n",
    "    rid = rec.id # save the record id\n",
    "\n",
    "    # Inference and saving signal\n",
    "    sr = SignalRecord(model, dataset, rec)\n",
    "    sr.generate()"
   ]
  },
  {
   "cell_type": "code",
   "execution_count": null,
   "metadata": {},
   "outputs": [],
   "source": [
    "# load recorder\n",
    "recorder = R.get_recorder(recorder_id=rid, experiment_name=EXP_NAME)\n",
    "gru_pred_df = recorder.load_object(\"pred.pkl\")\n",
    "gru_pred_df"
   ]
  },
  {
   "cell_type": "code",
   "execution_count": null,
   "metadata": {},
   "outputs": [],
   "source": [
    "############## my_predict\n",
    "FREQ = \"day\"\n",
    "\n",
    "STRATEGY_CONFIG = {\n",
    "    \"topk\": 10,\n",
    "    \"n_drop\": 2,\n",
    "    # pred_score, pd.Series\n",
    "    \"signal\": gru_pred_df, ################################ 需要换 ##############\n",
    "}\n",
    "\n",
    "EXECUTOR_CONFIG = {\n",
    "    \"time_per_step\": \"day\",\n",
    "    \"generate_portfolio_metrics\": True,\n",
    "}\n",
    "\n",
    "backtest_config = {\n",
    "    \"start_time\": \"2023-02-01\",\n",
    "    \"end_time\": \"2023-06-28\",\n",
    "    \"account\": 100000,\n",
    "    \"benchmark\": 'spx.gi',\n",
    "    \"exchange_kwargs\": {\n",
    "        \"freq\": FREQ,\n",
    "        \"limit_threshold\": 0.095,\n",
    "        \"deal_price\": \"close\",\n",
    "        \"open_cost\": 0.0005,\n",
    "        \"close_cost\": 0.003,\n",
    "        \"min_cost\": 5,\n",
    "    },\n",
    "}\n"
   ]
  },
  {
   "cell_type": "code",
   "execution_count": null,
   "metadata": {},
   "outputs": [],
   "source": [
    "# strategy object\n",
    "strategy_obj = TopkDropoutStrategy(**STRATEGY_CONFIG)\n",
    "# executor object\n",
    "executor_obj = executor.SimulatorExecutor(**EXECUTOR_CONFIG)\n",
    "# backtest\n",
    "portfolio_metric_dict, indicator_dict = backtest(executor=executor_obj, strategy=strategy_obj, **backtest_config)\n",
    "analysis_freq = \"{0}{1}\".format(*Freq.parse(FREQ))\n",
    "\n",
    "# backtest info\n",
    "gru_report_normal, gru_positions_normal = portfolio_metric_dict.get(analysis_freq)"
   ]
  },
  {
   "cell_type": "code",
   "execution_count": null,
   "metadata": {},
   "outputs": [],
   "source": [
    "outpath = '/root/autodl-tmp/Stockformer/output'\n",
    "# 将 'datetime' 列转换为日期格式\n",
    "my_report_normal = pd.read_csv(outpath+'my_report_normal.csv')\n",
    "my_report_normal['datetime'] = pd.to_datetime(my_report_normal['datetime'])\n",
    "\n",
    "# 将 'datetime' 列设置为索引\n",
    "my_report_normal.set_index('datetime', inplace=True)"
   ]
  },
  {
   "cell_type": "code",
   "execution_count": null,
   "metadata": {},
   "outputs": [],
   "source": [
    "my_report_normal['gru_return'] = gru_report_normal['return']\n",
    "my_report_normal"
   ]
  },
  {
   "cell_type": "code",
   "execution_count": null,
   "metadata": {},
   "outputs": [],
   "source": [
    "## 方便修改源码，把结果保存，方便调取\n",
    "outpath = '/root/autodl-tmp/Stockformer/output'\n",
    "### 保存时不要注释\n",
    "my_report_normal.to_csv(outpath+'my_report_normal.csv')"
   ]
  },
  {
   "cell_type": "code",
   "execution_count": null,
   "metadata": {},
   "outputs": [],
   "source": [
    "my_report_normal = pd.read_csv(outpath+'my_report_normal.csv')"
   ]
  },
  {
   "cell_type": "code",
   "execution_count": null,
   "metadata": {},
   "outputs": [],
   "source": [
    "my_report_normal"
   ]
  },
  {
   "cell_type": "markdown",
   "metadata": {},
   "source": [
    "### GATS"
   ]
  },
  {
   "cell_type": "code",
   "execution_count": null,
   "metadata": {},
   "outputs": [],
   "source": [
    "# 数据集参数\n",
    "dataset_conf = {\n",
    "        \"class\": \"DatasetH\",\n",
    "        \"module_path\": \"qlib.data.dataset\",\n",
    "        \"kwargs\": {\n",
    "            \"handler\": hd,\n",
    "            \"segments\": {\n",
    "                \"train\": (\"2021-01-04\", \"2022-08-31\"),\n",
    "                \"valid\": (\"2022-09-01\", \"2023-01-31\"),\n",
    "                \"test\": (\"2023-02-01\", \"2023-06-30\"),\n",
    "            },\n",
    "        },\n",
    "}"
   ]
  },
  {
   "cell_type": "code",
   "execution_count": null,
   "metadata": {},
   "outputs": [],
   "source": [
    "dataset = init_instance_by_config(dataset_conf)"
   ]
  },
  {
   "cell_type": "code",
   "execution_count": null,
   "metadata": {},
   "outputs": [],
   "source": [
    "# 模型训练\n",
    "\n",
    "model = init_instance_by_config({\n",
    "        \"class\": \"GATs\",\n",
    "        \"module_path\": \"qlib.contrib.model.pytorch_gats\",\n",
    "        \"kwargs\": {\n",
    "            \"d_feat\": 158,\n",
    "        }\n",
    "})"
   ]
  },
  {
   "cell_type": "code",
   "execution_count": null,
   "metadata": {
    "collapsed": true,
    "jupyter": {
     "outputs_hidden": true
    },
    "tags": []
   },
   "outputs": [],
   "source": [
    "# start exp to train model\n",
    "with R.start(experiment_name=EXP_NAME):\n",
    "    model.fit(dataset)\n",
    "    R.save_objects(trained_model=model)\n",
    "\n",
    "    rec = R.get_recorder()\n",
    "    rid = rec.id # save the record id\n",
    "\n",
    "    # Inference and saving signal\n",
    "    sr = SignalRecord(model, dataset, rec)\n",
    "    sr.generate()"
   ]
  },
  {
   "cell_type": "code",
   "execution_count": null,
   "metadata": {},
   "outputs": [],
   "source": [
    "# load recorder\n",
    "recorder = R.get_recorder(recorder_id=rid, experiment_name=EXP_NAME)\n",
    "gats_pred_df = recorder.load_object(\"pred.pkl\")\n",
    "gats_pred_df"
   ]
  },
  {
   "cell_type": "code",
   "execution_count": null,
   "metadata": {},
   "outputs": [],
   "source": [
    "############## my_predict\n",
    "FREQ = \"day\"\n",
    "\n",
    "STRATEGY_CONFIG = {\n",
    "    \"topk\": 10,\n",
    "    \"n_drop\": 2,\n",
    "    # pred_score, pd.Series\n",
    "    \"signal\": gats_pred_df, ################################ 需要换 ##############\n",
    "}\n",
    "\n",
    "EXECUTOR_CONFIG = {\n",
    "    \"time_per_step\": \"day\",\n",
    "    \"generate_portfolio_metrics\": True,\n",
    "}\n",
    "\n",
    "backtest_config = {\n",
    "    \"start_time\": \"2023-02-01\",\n",
    "    \"end_time\": \"2023-06-28\",\n",
    "    \"account\": 100000,\n",
    "    \"benchmark\": 'spx.gi',\n",
    "    \"exchange_kwargs\": {\n",
    "        \"freq\": FREQ,\n",
    "        \"limit_threshold\": 0.095,\n",
    "        \"deal_price\": \"close\",\n",
    "        \"open_cost\": 0.0005,\n",
    "        \"close_cost\": 0.003,\n",
    "        \"min_cost\": 5,\n",
    "    },\n",
    "}\n"
   ]
  },
  {
   "cell_type": "code",
   "execution_count": null,
   "metadata": {
    "tags": []
   },
   "outputs": [],
   "source": [
    "# strategy object\n",
    "strategy_obj = TopkDropoutStrategy(**STRATEGY_CONFIG)\n",
    "# executor object\n",
    "executor_obj = executor.SimulatorExecutor(**EXECUTOR_CONFIG)\n",
    "# backtest\n",
    "portfolio_metric_dict, indicator_dict = backtest(executor=executor_obj, strategy=strategy_obj, **backtest_config)\n",
    "analysis_freq = \"{0}{1}\".format(*Freq.parse(FREQ))\n",
    "\n",
    "# backtest info\n",
    "gats_report_normal, gats_positions_normal = portfolio_metric_dict.get(analysis_freq)"
   ]
  },
  {
   "cell_type": "code",
   "execution_count": null,
   "metadata": {},
   "outputs": [],
   "source": [
    "gats_report_normal"
   ]
  },
  {
   "cell_type": "code",
   "execution_count": null,
   "metadata": {},
   "outputs": [],
   "source": [
    "outpath = '/root/autodl-tmp/Stockformer/output'\n",
    "# 将 'datetime' 列转换为日期格式\n",
    "my_report_normal = pd.read_csv(outpath+'my_report_normal.csv')\n",
    "my_report_normal['datetime'] = pd.to_datetime(my_report_normal['datetime'])\n",
    "\n",
    "# 将 'datetime' 列设置为索引\n",
    "my_report_normal.set_index('datetime', inplace=True)"
   ]
  },
  {
   "cell_type": "code",
   "execution_count": null,
   "metadata": {},
   "outputs": [],
   "source": [
    "my_report_normal['gats_return'] = gats_report_normal['return']\n",
    "my_report_normal"
   ]
  },
  {
   "cell_type": "code",
   "execution_count": null,
   "metadata": {},
   "outputs": [],
   "source": [
    "## 方便修改源码，把结果保存，方便调取\n",
    "outpath = '/root/autodl-tmp/Stockformer/output'\n",
    "### 保存时不要注释\n",
    "my_report_normal.to_csv(outpath+'my_report_normal.csv')"
   ]
  },
  {
   "cell_type": "code",
   "execution_count": null,
   "metadata": {},
   "outputs": [],
   "source": [
    "my_report_normal = pd.read_csv(outpath+'my_report_normal.csv')"
   ]
  },
  {
   "cell_type": "code",
   "execution_count": null,
   "metadata": {},
   "outputs": [],
   "source": [
    "my_report_normal"
   ]
  },
  {
   "cell_type": "markdown",
   "metadata": {},
   "source": [
    "### TCN"
   ]
  },
  {
   "cell_type": "code",
   "execution_count": null,
   "metadata": {},
   "outputs": [],
   "source": [
    "# 数据集参数\n",
    "dataset_conf = {\n",
    "        \"class\": \"DatasetH\",\n",
    "        \"module_path\": \"qlib.data.dataset\",\n",
    "        \"kwargs\": {\n",
    "            \"handler\": hd,\n",
    "            \"segments\": {\n",
    "                \"train\": (\"2021-01-04\", \"2022-08-31\"),\n",
    "                \"valid\": (\"2022-09-01\", \"2023-01-31\"),\n",
    "                \"test\": (\"2023-02-01\", \"2023-06-30\"),\n",
    "            },\n",
    "        },\n",
    "}"
   ]
  },
  {
   "cell_type": "code",
   "execution_count": null,
   "metadata": {},
   "outputs": [],
   "source": [
    "dataset = init_instance_by_config(dataset_conf)"
   ]
  },
  {
   "cell_type": "code",
   "execution_count": null,
   "metadata": {
    "tags": []
   },
   "outputs": [],
   "source": [
    "# 模型训练\n",
    "\n",
    "model = init_instance_by_config({\n",
    "        \"class\": \"TCN\",\n",
    "        \"module_path\": \"qlib.contrib.model.pytorch_tcn\",\n",
    "        \"kwargs\": {\n",
    "            \"d_feat\": 158,\n",
    "        }\n",
    "})"
   ]
  },
  {
   "cell_type": "code",
   "execution_count": null,
   "metadata": {
    "tags": []
   },
   "outputs": [],
   "source": [
    "# start exp to train model\n",
    "with R.start(experiment_name=EXP_NAME):\n",
    "    model.fit(dataset)\n",
    "    R.save_objects(trained_model=model)\n",
    "\n",
    "    rec = R.get_recorder()\n",
    "    rid = rec.id # save the record id\n",
    "\n",
    "    # Inference and saving signal\n",
    "    sr = SignalRecord(model, dataset, rec)\n",
    "    sr.generate()"
   ]
  },
  {
   "cell_type": "code",
   "execution_count": null,
   "metadata": {},
   "outputs": [],
   "source": [
    "# load recorder\n",
    "recorder = R.get_recorder(recorder_id=rid, experiment_name=EXP_NAME)\n",
    "tcn_pred_df = recorder.load_object(\"pred.pkl\")\n",
    "tcn_pred_df"
   ]
  },
  {
   "cell_type": "code",
   "execution_count": null,
   "metadata": {},
   "outputs": [],
   "source": [
    "############## my_predict\n",
    "FREQ = \"day\"\n",
    "\n",
    "STRATEGY_CONFIG = {\n",
    "    \"topk\": 10,\n",
    "    \"n_drop\": 2,\n",
    "    # pred_score, pd.Series\n",
    "    \"signal\": tcn_pred_df, ################################ 需要换 ##############\n",
    "}\n",
    "\n",
    "EXECUTOR_CONFIG = {\n",
    "    \"time_per_step\": \"day\",\n",
    "    \"generate_portfolio_metrics\": True,\n",
    "}\n",
    "\n",
    "backtest_config = {\n",
    "    \"start_time\": \"2023-02-01\",\n",
    "    \"end_time\": \"2023-06-28\",\n",
    "    \"account\": 100000,\n",
    "    \"benchmark\": 'spx.gi',\n",
    "    \"exchange_kwargs\": {\n",
    "        \"freq\": FREQ,\n",
    "        \"limit_threshold\": 0.095,\n",
    "        \"deal_price\": \"close\",\n",
    "        \"open_cost\": 0.0005,\n",
    "        \"close_cost\": 0.003,\n",
    "        \"min_cost\": 5,\n",
    "    },\n",
    "}\n"
   ]
  },
  {
   "cell_type": "code",
   "execution_count": null,
   "metadata": {
    "tags": []
   },
   "outputs": [],
   "source": [
    "# strategy object\n",
    "strategy_obj = TopkDropoutStrategy(**STRATEGY_CONFIG)\n",
    "# executor object\n",
    "executor_obj = executor.SimulatorExecutor(**EXECUTOR_CONFIG)\n",
    "# backtest\n",
    "portfolio_metric_dict, indicator_dict = backtest(executor=executor_obj, strategy=strategy_obj, **backtest_config)\n",
    "analysis_freq = \"{0}{1}\".format(*Freq.parse(FREQ))\n",
    "\n",
    "# backtest info\n",
    "tcn_report_normal, tcn_positions_normal = portfolio_metric_dict.get(analysis_freq)"
   ]
  },
  {
   "cell_type": "code",
   "execution_count": null,
   "metadata": {},
   "outputs": [],
   "source": [
    "tcn_report_normal"
   ]
  },
  {
   "cell_type": "code",
   "execution_count": null,
   "metadata": {},
   "outputs": [],
   "source": [
    "outpath = '/root/autodl-tmp/Stockformer/output'\n",
    "# 将 'datetime' 列转换为日期格式\n",
    "my_report_normal = pd.read_csv(outpath+'my_report_normal.csv')\n",
    "my_report_normal['datetime'] = pd.to_datetime(my_report_normal['datetime'])\n",
    "\n",
    "# 将 'datetime' 列设置为索引\n",
    "my_report_normal.set_index('datetime', inplace=True)"
   ]
  },
  {
   "cell_type": "code",
   "execution_count": null,
   "metadata": {},
   "outputs": [],
   "source": [
    "my_report_normal['tcn_return'] = tcn_report_normal['return']\n",
    "my_report_normal"
   ]
  },
  {
   "cell_type": "code",
   "execution_count": null,
   "metadata": {},
   "outputs": [],
   "source": [
    "## 方便修改源码，把结果保存，方便调取\n",
    "outpath = '/root/autodl-tmp/Stockformer/output'\n",
    "### 保存时不要注释\n",
    "my_report_normal.to_csv(outpath+'my_report_normal.csv')"
   ]
  },
  {
   "cell_type": "code",
   "execution_count": null,
   "metadata": {},
   "outputs": [],
   "source": [
    "my_report_normal = pd.read_csv(outpath+'my_report_normal.csv')"
   ]
  },
  {
   "cell_type": "code",
   "execution_count": null,
   "metadata": {},
   "outputs": [],
   "source": [
    "my_report_normal"
   ]
  },
  {
   "cell_type": "markdown",
   "metadata": {},
   "source": [
    "### Localformer"
   ]
  },
  {
   "cell_type": "code",
   "execution_count": null,
   "metadata": {},
   "outputs": [],
   "source": [
    "# 数据集参数\n",
    "dataset_conf = {\n",
    "        \"class\": \"DatasetH\",\n",
    "        \"module_path\": \"qlib.data.dataset\",\n",
    "        \"kwargs\": {\n",
    "            \"handler\": hd,\n",
    "            \"segments\": {\n",
    "                \"train\": (\"2021-01-04\", \"2022-08-31\"),\n",
    "                \"valid\": (\"2022-09-01\", \"2023-01-31\"),\n",
    "                \"test\": (\"2023-02-01\", \"2023-06-30\"),\n",
    "            },\n",
    "        },\n",
    "}"
   ]
  },
  {
   "cell_type": "code",
   "execution_count": null,
   "metadata": {},
   "outputs": [],
   "source": [
    "dataset = init_instance_by_config(dataset_conf)"
   ]
  },
  {
   "cell_type": "code",
   "execution_count": null,
   "metadata": {},
   "outputs": [],
   "source": [
    "# 模型训练\n",
    "\n",
    "model = init_instance_by_config({\n",
    "        \"class\": \"LocalformerModel\",\n",
    "        \"module_path\": \"qlib.contrib.model.pytorch_localformer\",\n",
    "        \"kwargs\": {\n",
    "            \"d_feat\": 158,\n",
    "        }\n",
    "})"
   ]
  },
  {
   "cell_type": "code",
   "execution_count": null,
   "metadata": {},
   "outputs": [],
   "source": [
    "# start exp to train model\n",
    "with R.start(experiment_name=EXP_NAME):\n",
    "    model.fit(dataset)\n",
    "    R.save_objects(trained_model=model)\n",
    "\n",
    "    rec = R.get_recorder()\n",
    "    rid = rec.id # save the record id\n",
    "\n",
    "    # Inference and saving signal\n",
    "    sr = SignalRecord(model, dataset, rec)\n",
    "    sr.generate()"
   ]
  },
  {
   "cell_type": "code",
   "execution_count": null,
   "metadata": {},
   "outputs": [],
   "source": [
    "# load recorder\n",
    "recorder = R.get_recorder(recorder_id=rid, experiment_name=EXP_NAME)\n",
    "localformer_pred_df = recorder.load_object(\"pred.pkl\")\n",
    "localformer_pred_df"
   ]
  },
  {
   "cell_type": "code",
   "execution_count": null,
   "metadata": {},
   "outputs": [],
   "source": [
    "############## my_predict\n",
    "FREQ = \"day\"\n",
    "\n",
    "STRATEGY_CONFIG = {\n",
    "    \"topk\": 10,\n",
    "    \"n_drop\": 2,\n",
    "    # pred_score, pd.Series\n",
    "    \"signal\": localformer_pred_df, ################################ 需要换 ##############\n",
    "}\n",
    "\n",
    "EXECUTOR_CONFIG = {\n",
    "    \"time_per_step\": \"day\",\n",
    "    \"generate_portfolio_metrics\": True,\n",
    "}\n",
    "\n",
    "backtest_config = {\n",
    "    \"start_time\": \"2023-02-01\",\n",
    "    \"end_time\": \"2023-06-28\",\n",
    "    \"account\": 100000,\n",
    "    \"benchmark\": 'spx.gi',\n",
    "    \"exchange_kwargs\": {\n",
    "        \"freq\": FREQ,\n",
    "        \"limit_threshold\": 0.095,\n",
    "        \"deal_price\": \"close\",\n",
    "        \"open_cost\": 0.0005,\n",
    "        \"close_cost\": 0.003,\n",
    "        \"min_cost\": 5,\n",
    "    },\n",
    "}\n"
   ]
  },
  {
   "cell_type": "code",
   "execution_count": null,
   "metadata": {},
   "outputs": [],
   "source": [
    "# strategy object\n",
    "strategy_obj = TopkDropoutStrategy(**STRATEGY_CONFIG)\n",
    "# executor object\n",
    "executor_obj = executor.SimulatorExecutor(**EXECUTOR_CONFIG)\n",
    "# backtest\n",
    "portfolio_metric_dict, indicator_dict = backtest(executor=executor_obj, strategy=strategy_obj, **backtest_config)\n",
    "analysis_freq = \"{0}{1}\".format(*Freq.parse(FREQ))\n",
    "\n",
    "# backtest info\n",
    "localformer_report_normal, localformer_positions_normal = portfolio_metric_dict.get(analysis_freq)"
   ]
  },
  {
   "cell_type": "code",
   "execution_count": null,
   "metadata": {},
   "outputs": [],
   "source": [
    "outpath = '/root/autodl-tmp/Stockformer/output'\n",
    "# 将 'datetime' 列转换为日期格式\n",
    "my_report_normal = pd.read_csv(outpath+'my_report_normal.csv')\n",
    "my_report_normal['datetime'] = pd.to_datetime(my_report_normal['datetime'])\n",
    "\n",
    "# 将 'datetime' 列设置为索引\n",
    "my_report_normal.set_index('datetime', inplace=True)"
   ]
  },
  {
   "cell_type": "code",
   "execution_count": null,
   "metadata": {},
   "outputs": [],
   "source": [
    "my_report_normal['localformer_return'] = localformer_report_normal['return']\n",
    "my_report_normal"
   ]
  },
  {
   "cell_type": "code",
   "execution_count": null,
   "metadata": {},
   "outputs": [],
   "source": [
    "## 方便修改源码，把结果保存，方便调取\n",
    "outpath = '/root/autodl-tmp/Stockformer/output'\n",
    "### 保存时不要注释\n",
    "my_report_normal.to_csv(outpath+'my_report_normal.csv')"
   ]
  },
  {
   "cell_type": "code",
   "execution_count": null,
   "metadata": {},
   "outputs": [],
   "source": [
    "my_report_normal = pd.read_csv(outpath+'my_report_normal.csv')"
   ]
  },
  {
   "cell_type": "code",
   "execution_count": null,
   "metadata": {},
   "outputs": [],
   "source": [
    "my_report_normal"
   ]
  },
  {
   "cell_type": "markdown",
   "metadata": {},
   "source": [
    "### IGMTF"
   ]
  },
  {
   "cell_type": "code",
   "execution_count": null,
   "metadata": {},
   "outputs": [],
   "source": [
    "# 模型训练\n",
    "\n",
    "model = init_instance_by_config({\n",
    "        \"class\": \"IGMTF\",\n",
    "        \"module_path\": \"qlib.contrib.model.pytorch_igmtf\",\n",
    "        \"kwargs\": {\n",
    "            \"d_feat\": 158,\n",
    "            \"metric\": \"ic\"\n",
    "        }\n",
    "})"
   ]
  },
  {
   "cell_type": "code",
   "execution_count": null,
   "metadata": {},
   "outputs": [],
   "source": [
    "# start exp to train model\n",
    "with R.start(experiment_name=EXP_NAME):\n",
    "    model.fit(dataset)\n",
    "    R.save_objects(trained_model=model)\n",
    "\n",
    "    rec = R.get_recorder()\n",
    "    rid = rec.id # save the record id\n",
    "\n",
    "    # Inference and saving signal\n",
    "    sr = SignalRecord(model, dataset, rec)\n",
    "    sr.generate()"
   ]
  },
  {
   "cell_type": "code",
   "execution_count": null,
   "metadata": {},
   "outputs": [],
   "source": [
    "# load recorder\n",
    "recorder = R.get_recorder(recorder_id=rid, experiment_name=EXP_NAME)\n",
    "igmtf_pred_df = recorder.load_object(\"pred.pkl\")\n",
    "igmtf_pred_df"
   ]
  },
  {
   "cell_type": "code",
   "execution_count": null,
   "metadata": {},
   "outputs": [],
   "source": [
    "############## my_predict\n",
    "FREQ = \"day\"\n",
    "\n",
    "STRATEGY_CONFIG = {\n",
    "    \"topk\": 10,\n",
    "    \"n_drop\": 2,\n",
    "    # pred_score, pd.Series\n",
    "    \"signal\": igmtf_pred_df, ################################ 需要换 ##############\n",
    "}\n",
    "\n",
    "EXECUTOR_CONFIG = {\n",
    "    \"time_per_step\": \"day\",\n",
    "    \"generate_portfolio_metrics\": True,\n",
    "}\n",
    "\n",
    "backtest_config = {\n",
    "    \"start_time\": \"2023-02-01\",\n",
    "    \"end_time\": \"2023-06-28\",\n",
    "    \"account\": 100000,\n",
    "    \"benchmark\": 'spx.gi',\n",
    "    \"exchange_kwargs\": {\n",
    "        \"freq\": FREQ,\n",
    "        \"limit_threshold\": 0.095,\n",
    "        \"deal_price\": \"close\",\n",
    "        \"open_cost\": 0.0005,\n",
    "        \"close_cost\": 0.003,\n",
    "        \"min_cost\": 5,\n",
    "    },\n",
    "}\n"
   ]
  },
  {
   "cell_type": "code",
   "execution_count": null,
   "metadata": {},
   "outputs": [],
   "source": [
    "# strategy object\n",
    "strategy_obj = TopkDropoutStrategy(**STRATEGY_CONFIG)\n",
    "# executor object\n",
    "executor_obj = executor.SimulatorExecutor(**EXECUTOR_CONFIG)\n",
    "# backtest\n",
    "portfolio_metric_dict, indicator_dict = backtest(executor=executor_obj, strategy=strategy_obj, **backtest_config)\n",
    "analysis_freq = \"{0}{1}\".format(*Freq.parse(FREQ))\n",
    "\n",
    "# backtest info\n",
    "igmtf_report_normal, igmtf_positions_normal = portfolio_metric_dict.get(analysis_freq)"
   ]
  },
  {
   "cell_type": "code",
   "execution_count": null,
   "metadata": {},
   "outputs": [],
   "source": [
    "outpath = '/root/autodl-tmp/Stockformer/output'\n",
    "# 将 'datetime' 列转换为日期格式\n",
    "my_report_normal = pd.read_csv(outpath+'my_report_normal.csv')\n",
    "my_report_normal['datetime'] = pd.to_datetime(my_report_normal['datetime'])\n",
    "\n",
    "# 将 'datetime' 列设置为索引\n",
    "my_report_normal.set_index('datetime', inplace=True)"
   ]
  },
  {
   "cell_type": "code",
   "execution_count": null,
   "metadata": {},
   "outputs": [],
   "source": [
    "my_report_normal['igmtf_return'] = igmtf_report_normal['return']\n",
    "my_report_normal"
   ]
  },
  {
   "cell_type": "code",
   "execution_count": null,
   "metadata": {},
   "outputs": [],
   "source": [
    "## 方便修改源码，把结果保存，方便调取\n",
    "outpath = '/root/autodl-tmp/Stockformer/output'\n",
    "### 保存时不要注释\n",
    "my_report_normal.to_csv(outpath+'my_report_normal.csv')"
   ]
  },
  {
   "cell_type": "code",
   "execution_count": null,
   "metadata": {},
   "outputs": [],
   "source": [
    "my_report_normal = pd.read_csv(outpath+'my_report_normal.csv')"
   ]
  },
  {
   "cell_type": "code",
   "execution_count": null,
   "metadata": {},
   "outputs": [],
   "source": [
    "my_report_normal"
   ]
  },
  {
   "cell_type": "markdown",
   "metadata": {},
   "source": [
    "## 回测报告"
   ]
  },
  {
   "cell_type": "code",
   "execution_count": null,
   "metadata": {},
   "outputs": [],
   "source": [
    "## 方便修改源码，把结果保存，方便调取\n",
    "outpath = '/root/autodl-tmp/Stockformer/output/'\n",
    "### 保存时不要注释\n",
    "# my_report_normal.to_csv(outpath+'my_report_normal.csv')"
   ]
  },
  {
   "cell_type": "code",
   "execution_count": null,
   "metadata": {},
   "outputs": [],
   "source": [
    "my_report_normal = pd.read_csv(outpath+'my_report_normal.csv')"
   ]
  },
  {
   "cell_type": "code",
   "execution_count": null,
   "metadata": {},
   "outputs": [],
   "source": [
    "# 将 'datetime' 列转换为日期格式\n",
    "my_report_normal['datetime'] = pd.to_datetime(my_report_normal['datetime'])\n",
    "\n",
    "# 将 'datetime' 列设置为索引\n",
    "my_report_normal.set_index('datetime', inplace=True)\n"
   ]
  },
  {
   "cell_type": "code",
   "execution_count": null,
   "metadata": {},
   "outputs": [],
   "source": [
    "my_report_normal.columns"
   ]
  },
  {
   "cell_type": "code",
   "execution_count": null,
   "metadata": {},
   "outputs": [],
   "source": [
    "# 假设 df 是您的 DataFrame\n",
    "my_report_normal.rename(columns={'gru_return': 'temp_name', 'return': 'gru_return'}, inplace=True)\n",
    "my_report_normal.rename(columns={'temp_name': 'return'}, inplace=True)\n"
   ]
  },
  {
   "cell_type": "code",
   "execution_count": null,
   "metadata": {},
   "outputs": [],
   "source": [
    "my_report_normal"
   ]
  },
  {
   "cell_type": "code",
   "execution_count": null,
   "metadata": {},
   "outputs": [],
   "source": [
    "### 保存时不要注释\n",
    "my_report_normal.to_csv(outpath+'my_report_normal_processed.csv')"
   ]
  },
  {
   "cell_type": "code",
   "execution_count": null,
   "metadata": {},
   "outputs": [],
   "source": [
    "import pandas as pd\n",
    "\n",
    "# 假设 my_report_normal 是你的原始DataFrame\n",
    "# 提取包含'return'的列\n",
    "returns_df = my_report_normal.filter(like='return').copy()\n",
    "\n",
    "# 重命名'return'列为'Stockformer_return'\n",
    "returns_df.rename(columns={'return': 'Stockformer_return'}, inplace=True)\n",
    "\n",
    "# 对每列求和，得到一个Series对象\n",
    "sums = returns_df.sum()\n",
    "\n",
    "# 如果你想要将这个Series转化为DataFrame的形式\n",
    "sums_df = sums.to_frame(name='sum').reset_index().rename(columns={'index': 'return_type'})\n",
    "\n",
    "# 输出求和结果\n",
    "print(sums_df)\n"
   ]
  },
  {
   "cell_type": "code",
   "execution_count": null,
   "metadata": {},
   "outputs": [],
   "source": [
    "## 给report_normal添加内容\n",
    "# my_report_normal['lgb_return'] = lgbm_report_normal['return']\n",
    "# report_normal['xgb_return'] = report_normal['return']\n",
    "# report_normal['cat_return'] = report_normal['return']"
   ]
  },
  {
   "cell_type": "code",
   "execution_count": null,
   "metadata": {},
   "outputs": [],
   "source": [
    "# analysis = dict()\n",
    "# # default frequency will be daily (i.e. \"day\")\n",
    "# # analysis[\"excess_return_without_cost\"] = risk_analysis(report_normal[\"return\"] - report_normal[\"bench\"])\n",
    "# # analysis[\"excess_return_with_cost\"] = risk_analysis(report_normal[\"return\"] - report_normal[\"bench\"] - report_normal[\"cost\"])\n",
    "\n",
    "# analysis[\"hh_return_without_cost\"] = risk_analysis(my_report_normal[\"return\"])\n",
    "# analysis[\"hh_return_with_cost\"] = risk_analysis(my_report_normal[\"return\"]- my_report_normal[\"cost\"])\n",
    "\n",
    "# analysis_df = pd.concat(analysis)  # type: pd.DataFrame\n",
    "# pprint(analysis_df)"
   ]
  },
  {
   "cell_type": "code",
   "execution_count": null,
   "metadata": {},
   "outputs": [],
   "source": [
    "analysis = dict()\n",
    "analysis[\"my_return_without_cost\"] = risk_analysis(my_report_normal[\"return\"])\n",
    "analysis[\"lgb_return_without_cost\"] = risk_analysis(my_report_normal[\"lgb_return\"])\n",
    "analysis[\"catboost_return_without_cost\"] = risk_analysis(my_report_normal[\"catboost_return\"])\n",
    "analysis[\"xgboost_return_without_cost\"] = risk_analysis(my_report_normal[\"xgboost_return\"])\n",
    "analysis[\"HFLGB_return_without_cost\"] = risk_analysis(my_report_normal[\"HFLGB_return\"])\n",
    "analysis[\"alstm_return_without_cost\"] = risk_analysis(my_report_normal[\"alstm_return\"])\n",
    "analysis[\"lstm_return_without_cost\"] = risk_analysis(my_report_normal[\"lstm_return\"])\n",
    "analysis[\"gru_return_without_cost\"] = risk_analysis(my_report_normal[\"gru_return\"])\n",
    "analysis[\"gats_return_without_cost\"] = risk_analysis(my_report_normal[\"gats_return\"])\n",
    "analysis[\"tcn_return_without_cost\"] = risk_analysis(my_report_normal[\"tcn_return\"])\n",
    "analysis[\"localformer_return_without_cost\"] = risk_analysis(my_report_normal[\"localformer_return\"])\n",
    "analysis[\"igmtf_return_without_cost\"] = risk_analysis(my_report_normal[\"igmtf_return\"])\n"
   ]
  },
  {
   "cell_type": "code",
   "execution_count": null,
   "metadata": {},
   "outputs": [],
   "source": [
    "analysis_df = pd.concat(analysis)  # type: pd.DataFrame\n",
    "pprint(analysis_df)"
   ]
  },
  {
   "cell_type": "code",
   "execution_count": null,
   "metadata": {},
   "outputs": [],
   "source": [
    "outpath = '/root/autodl-tmp/Stockformer/output/'\n",
    "my_report_normal = pd.read_csv(outpath+'my_report_normal_processed.csv')\n",
    "# 将 'datetime' 列转换为日期格式\n",
    "my_report_normal['datetime'] = pd.to_datetime(my_report_normal['datetime'])\n",
    "\n",
    "# 将 'datetime' 列设置为索引\n",
    "my_report_normal.set_index('datetime', inplace=True)"
   ]
  },
  {
   "cell_type": "code",
   "execution_count": null,
   "metadata": {},
   "outputs": [],
   "source": [
    "analysis_position.report_graph(my_report_normal)\n"
   ]
  },
  {
   "cell_type": "code",
   "execution_count": null,
   "metadata": {},
   "outputs": [],
   "source": [
    "my_report_normal.index"
   ]
  },
  {
   "cell_type": "code",
   "execution_count": null,
   "metadata": {},
   "outputs": [],
   "source": [
    "import pandas as pd\n",
    "\n",
    "# 假设df是您的DataFrame，并且它已经包含了日收益率数据。\n",
    "def calculate_annualized_returns(df):\n",
    "    # 找出所有含有\"return\"的列\n",
    "    return_columns = [col for col in df.columns if 'return' in col]\n",
    "    \n",
    "    # 年化因子\n",
    "    annualization_factor = 252\n",
    "\n",
    "    # 计算每个模型的年化收益率\n",
    "    annualized_returns = {}\n",
    "    for column in return_columns:\n",
    "        # 计算平均日收益率\n",
    "        daily_mean = df[column].mean()\n",
    "        # 年化收益率 = 日平均收益率 * 年化因子\n",
    "        annualized_returns[column] = daily_mean * annualization_factor\n",
    "    \n",
    "    return annualized_returns\n",
    "\n",
    "# 调用函数并打印结果\n",
    "annualized_returns = calculate_annualized_returns(my_report_normal)\n",
    "for model, a_return in annualized_returns.items():\n",
    "    print(f\"{model}: {a_return:.2%}\")\n"
   ]
  },
  {
   "cell_type": "markdown",
   "metadata": {},
   "source": [
    "## 其他图"
   ]
  },
  {
   "cell_type": "code",
   "execution_count": null,
   "metadata": {},
   "outputs": [],
   "source": [
    "## df和pre_df导出来，方便修改源码\n",
    "\n",
    "outpath = '/root/autodl-tmp/Stockformer/output/'\n",
    "# df.to_csv(outpath+'df.csv')\n",
    "# pred_df.to_csv(outpath+'pred_df.csv')"
   ]
  },
  {
   "cell_type": "code",
   "execution_count": null,
   "metadata": {},
   "outputs": [],
   "source": [
    "import pandas as pd\n",
    "\n",
    "all_label = pd.read_csv(outpath+'LABEL0.csv', index_col=0, header=0)\n",
    "all_label.index = pd.to_datetime(all_label.index, format='%Y-%m-%d')"
   ]
  },
  {
   "cell_type": "code",
   "execution_count": null,
   "metadata": {},
   "outputs": [],
   "source": [
    "# 读取first_pred数据\n",
    "my_pred = pd.read_csv(outpath+'US-Stock-pred-20230201-20230630.csv')\n",
    "my_pred['datetime'] = pd.to_datetime(my_pred['datetime'])\n",
    "# my_pred = my_pred.set_index(['datetime', 'instrument'])\n",
    "my_pred"
   ]
  },
  {
   "cell_type": "code",
   "execution_count": null,
   "metadata": {},
   "outputs": [],
   "source": [
    "my_label = pd.read_csv(outpath+'my_label.csv', header=None)\n",
    "# 选取df的行索引为'2022-06-02'-'2022-12-13'的行，并将其作为first_pred的行索引\n",
    "my_label.index = all_label.loc['2023-02-01':'2023-06-30'].index\n",
    "# 将df的所有列索引作为first_pred的列索引\n",
    "my_label.columns = all_label.columns\n",
    "# 输出结果\n",
    "print(my_label)\n",
    "# pre_df = pd.read_csv(outpath+'US-Stock-pred-20230201-20230630.csv')"
   ]
  },
  {
   "cell_type": "code",
   "execution_count": null,
   "metadata": {},
   "outputs": [],
   "source": [
    "my_label.index = all_label.loc['2023-02-01':'2023-06-30'].index\n",
    "\n",
    "# 将df的所有列索引作为first_pred的列索引\n",
    "my_label.columns = all_label.columns\n",
    "\n",
    "# 将first_pred转换为双层索引数据集\n",
    "my_label = my_label.stack().rename_axis(['datetime', 'instrument']).reset_index(name='label')\n",
    "my_label['datetime'] = pd.to_datetime(my_label['datetime'])\n",
    "# my_label = my_label.set_index(['datetime', 'instrument'])\n",
    "# 输出结果\n",
    "print(my_label)"
   ]
  },
  {
   "cell_type": "code",
   "execution_count": null,
   "metadata": {},
   "outputs": [],
   "source": [
    "result_df = my_pred.merge(my_label[['datetime', 'instrument', 'label']], on=['datetime', 'instrument'], how='left')\n",
    "result_df['datetime'] = pd.to_datetime(result_df['datetime'])\n",
    "result_df = result_df.set_index(['datetime','instrument'])\n",
    "result_df.dropna(subset=['label'], inplace=True)\n",
    "result_df "
   ]
  },
  {
   "cell_type": "code",
   "execution_count": null,
   "metadata": {},
   "outputs": [],
   "source": [
    "analysis_model.model_performance_graph(result_df)"
   ]
  },
  {
   "cell_type": "code",
   "execution_count": null,
   "metadata": {},
   "outputs": [],
   "source": []
  },
  {
   "cell_type": "code",
   "execution_count": null,
   "metadata": {},
   "outputs": [],
   "source": []
  }
 ],
 "metadata": {
  "kernelspec": {
   "display_name": "Python 3 (ipykernel)",
   "language": "python",
   "name": "python3"
  },
  "language_info": {
   "codemirror_mode": {
    "name": "ipython",
    "version": 3
   },
   "file_extension": ".py",
   "mimetype": "text/x-python",
   "name": "python",
   "nbconvert_exporter": "python",
   "pygments_lexer": "ipython3",
   "version": "3.8.10"
  },
  "vscode": {
   "interpreter": {
    "hash": "f52f256adf2cc158a51e888fcb9b6688be269c3160efd3d6e246b7ec509c991c"
   }
  }
 },
 "nbformat": 4,
 "nbformat_minor": 4
}
